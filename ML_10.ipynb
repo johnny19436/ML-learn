{
  "nbformat": 4,
  "nbformat_minor": 0,
  "metadata": {
    "language_info": {
      "codemirror_mode": {
        "name": "ipython",
        "version": 3
      },
      "file_extension": ".py",
      "mimetype": "text/x-python",
      "name": "python",
      "nbconvert_exporter": "python",
      "pygments_lexer": "ipython3",
      "version": "3.8.5-final"
    },
    "orig_nbformat": 2,
    "kernelspec": {
      "name": "python3",
      "display_name": "Python 3",
      "language": "python"
    },
    "colab": {
      "name": "ML 10",
      "provenance": [],
      "include_colab_link": true
    },
    "accelerator": "GPU"
  },
  "cells": [
    {
      "cell_type": "markdown",
      "metadata": {
        "id": "view-in-github",
        "colab_type": "text"
      },
      "source": [
        "<a href=\"https://colab.research.google.com/github/johnny19436/ML-learn/blob/main/ML_10.ipynb\" target=\"_parent\"><img src=\"https://colab.research.google.com/assets/colab-badge.svg\" alt=\"Open In Colab\"/></a>"
      ]
    },
    {
      "cell_type": "markdown",
      "metadata": {
        "id": "CYpiQcf7T74i"
      },
      "source": [
        "# Classification"
      ]
    },
    {
      "cell_type": "code",
      "metadata": {
        "id": "W69EIYylRzny"
      },
      "source": [
        "from matplotlib import pyplot as plt\r\n",
        "import tensorflow as tf\r\n",
        "from tensorflow import keras"
      ],
      "execution_count": 1,
      "outputs": []
    },
    {
      "cell_type": "code",
      "metadata": {
        "id": "AuqKxaHBSqNs"
      },
      "source": [
        "fashion_mnist=keras.datasets.fashion_mnist\r\n",
        "(X_train_full,y_train_full),(X_test,y_test)=fashion_mnist.load_data()"
      ],
      "execution_count": null,
      "outputs": []
    },
    {
      "cell_type": "markdown",
      "metadata": {
        "id": "cqa-UTekUTEQ"
      },
      "source": [
        "Each pixel intensity is represented as a byte (0 to 255):"
      ]
    },
    {
      "cell_type": "code",
      "metadata": {
        "colab": {
          "base_uri": "https://localhost:8080/"
        },
        "id": "rldfLsgsZVV6",
        "outputId": "da95bedd-909f-4a7d-f0aa-c4d1f0082eb9"
      },
      "source": [
        "X_train_full.shape"
      ],
      "execution_count": 3,
      "outputs": [
        {
          "output_type": "execute_result",
          "data": {
            "text/plain": [
              "(60000, 28, 28)"
            ]
          },
          "metadata": {
            "tags": []
          },
          "execution_count": 3
        }
      ]
    },
    {
      "cell_type": "code",
      "metadata": {
        "colab": {
          "base_uri": "https://localhost:8080/"
        },
        "id": "p6AC23znSqIf",
        "outputId": "85e454c1-0495-40b6-a483-4c49d88e38f8"
      },
      "source": [
        "X_train_full.dtype"
      ],
      "execution_count": 4,
      "outputs": [
        {
          "output_type": "execute_result",
          "data": {
            "text/plain": [
              "dtype('uint8')"
            ]
          },
          "metadata": {
            "tags": []
          },
          "execution_count": 4
        }
      ]
    },
    {
      "cell_type": "code",
      "metadata": {
        "colab": {
          "base_uri": "https://localhost:8080/"
        },
        "id": "F8yM_sp7Yoja",
        "outputId": "e257e14f-b768-429c-cf2d-30bb4d1b61ae"
      },
      "source": [
        "y_train_full"
      ],
      "execution_count": 5,
      "outputs": [
        {
          "output_type": "execute_result",
          "data": {
            "text/plain": [
              "array([9, 0, 0, ..., 3, 0, 5], dtype=uint8)"
            ]
          },
          "metadata": {
            "tags": []
          },
          "execution_count": 5
        }
      ]
    },
    {
      "cell_type": "code",
      "metadata": {
        "colab": {
          "base_uri": "https://localhost:8080/"
        },
        "id": "pCqms-7XaVRS",
        "outputId": "809ed4f9-782e-410c-8049-551d87b979c8"
      },
      "source": [
        "X_test.shape"
      ],
      "execution_count": 6,
      "outputs": [
        {
          "output_type": "execute_result",
          "data": {
            "text/plain": [
              "(10000, 28, 28)"
            ]
          },
          "metadata": {
            "tags": []
          },
          "execution_count": 6
        }
      ]
    },
    {
      "cell_type": "markdown",
      "metadata": {
        "id": "udd9zcHKUy1A"
      },
      "source": [
        "Split the full training set into a validation set and a (smaller) training set.Also scale the pixel intensities down to the 0-1 range and convert them to floats, by dividing by 255."
      ]
    },
    {
      "cell_type": "markdown",
      "metadata": {
        "id": "m-kSH8sNQn7A"
      },
      "source": [
        "You can also use validation_split=0.1"
      ]
    },
    {
      "cell_type": "code",
      "metadata": {
        "id": "uTf6Emi7SqGJ"
      },
      "source": [
        "X_valid,X_train=X_train_full[:5000]/255.,X_train_full[5000:]/255.\r\n",
        "y_valid,y_train=y_train_full[:5000],y_train_full[5000:]\r\n",
        "X_test=X_test/255."
      ],
      "execution_count": 7,
      "outputs": []
    },
    {
      "cell_type": "code",
      "metadata": {
        "colab": {
          "base_uri": "https://localhost:8080/",
          "height": 247
        },
        "id": "uxqI92e5SqBy",
        "outputId": "e9b49250-fce3-441e-b942-79d409be7871"
      },
      "source": [
        "plt.imshow(X_train[0],cmap=\"binary\")\r\n",
        "plt.axis('off')\r\n",
        "plt.show()"
      ],
      "execution_count": 8,
      "outputs": [
        {
          "output_type": "display_data",
          "data": {
            "image/png": "[encoded data removed]",
            "text/plain": [
              "<Figure size 432x288 with 1 Axes>"
            ]
          },
          "metadata": {
            "tags": [],
            "needs_background": "light"
          }
        }
      ]
    },
    {
      "cell_type": "markdown",
      "metadata": {
        "id": "-RLXCngbZtHi"
      },
      "source": [
        "Corresponding class names"
      ]
    },
    {
      "cell_type": "code",
      "metadata": {
        "id": "PNc5TpaYSp8v"
      },
      "source": [
        "class_names = [\"T-shirt/top\", \"Trouser\", \"Pullover\", \"Dress\", \"Coat\",\r\n",
        "               \"Sandal\", \"Shirt\", \"Sneaker\", \"Bag\", \"Ankle boot\"]"
      ],
      "execution_count": 9,
      "outputs": []
    },
    {
      "cell_type": "code",
      "metadata": {
        "colab": {
          "base_uri": "https://localhost:8080/",
          "height": 35
        },
        "id": "mvktXIsvSp6S",
        "outputId": "dd31ea73-9968-4583-e2ba-3452631230a4"
      },
      "source": [
        "class_names[y_train[0]]"
      ],
      "execution_count": 10,
      "outputs": [
        {
          "output_type": "execute_result",
          "data": {
            "application/vnd.google.colaboratory.intrinsic+json": {
              "type": "string"
            },
            "text/plain": [
              "'Coat'"
            ]
          },
          "metadata": {
            "tags": []
          },
          "execution_count": 10
        }
      ]
    },
    {
      "cell_type": "code",
      "metadata": {
        "colab": {
          "base_uri": "https://localhost:8080/",
          "height": 307
        },
        "id": "0f5gZ-s4Sp1u",
        "outputId": "8cbaa034-321b-4c6c-8de1-1af49d0c03e6"
      },
      "source": [
        "n_rows = 4\r\n",
        "n_cols = 10\r\n",
        "plt.figure(figsize=(n_cols * 1.2, n_rows * 1.2))\r\n",
        "for row in range(n_rows):\r\n",
        "    for col in range(n_cols):\r\n",
        "        index = n_cols * row + col\r\n",
        "        plt.subplot(n_rows, n_cols, index + 1)\r\n",
        "        plt.imshow(X_train[index], cmap=\"binary\", interpolation=\"nearest\")\r\n",
        "        plt.axis('off')\r\n",
        "        plt.title(class_names[y_train[index]], fontsize=12)\r\n",
        "plt.subplots_adjust(wspace=0.1, hspace=0.4)\r\n",
        "plt.show()"
      ],
      "execution_count": 11,
      "outputs": [
        {
          "output_type": "display_data",
          "data": {
            "image/png": "[encoded data removed]",
            "text/plain": [
              "<Figure size 864x345.6 with 40 Axes>"
            ]
          },
          "metadata": {
            "tags": [],
            "needs_background": "light"
          }
        }
      ]
    },
    {
      "cell_type": "markdown",
      "metadata": {
        "id": "X4dy1Ceguk46"
      },
      "source": [
        "P.295\r\n",
        "Classification loss to choose\r\n",
        "\r\n",
        "Sparse to One-Hot => keras.utils.categorical()\r\n"
      ]
    },
    {
      "cell_type": "code",
      "metadata": {
        "id": "WNNv95U-Spuo"
      },
      "source": [
        "model = keras.models.Sequential([\r\n",
        "    #keras.layers.Reshape((-1,),input_shape=(28,28)),#Flatten inputs to 1D\r\n",
        "    keras.layers.Flatten(input_shape=[28, 28]),#reshape(-1,1)=>Flatten inputs to 1D\r\n",
        "    keras.layers.Dense(300, activation=\"relu\"),\r\n",
        "    keras.layers.Dense(100, activation=\"relu\"),\r\n",
        "    keras.layers.Dense(10, activation=\"softmax\")\r\n",
        "])"
      ],
      "execution_count": 12,
      "outputs": []
    },
    {
      "cell_type": "code",
      "metadata": {
        "colab": {
          "base_uri": "https://localhost:8080/"
        },
        "id": "z3ILsRkqSpsH",
        "outputId": "58c522bc-8541-4654-c0c2-d431f13f6688"
      },
      "source": [
        "model.layers"
      ],
      "execution_count": 13,
      "outputs": [
        {
          "output_type": "execute_result",
          "data": {
            "text/plain": [
              "[<tensorflow.python.keras.layers.core.Flatten at 0x7f15824aaf28>,\n",
              " <tensorflow.python.keras.layers.core.Dense at 0x7f1596655550>,\n",
              " <tensorflow.python.keras.layers.core.Dense at 0x7f15824344e0>,\n",
              " <tensorflow.python.keras.layers.core.Dense at 0x7f15824345c0>]"
            ]
          },
          "metadata": {
            "tags": []
          },
          "execution_count": 13
        }
      ]
    },
    {
      "cell_type": "markdown",
      "metadata": {
        "id": "_1kqKaEdml20"
      },
      "source": [
        "Param = ( input_shape + 1(bias) ) * output_shape"
      ]
    },
    {
      "cell_type": "code",
      "metadata": {
        "colab": {
          "base_uri": "https://localhost:8080/"
        },
        "id": "H6FIEZmrSpmx",
        "outputId": "7341f34d-764b-479e-f1fc-20ba39b58476"
      },
      "source": [
        "model.summary()"
      ],
      "execution_count": 14,
      "outputs": [
        {
          "output_type": "stream",
          "text": [
            "Model: \"sequential\"\n",
            "_________________________________________________________________\n",
            "Layer (type)                 Output Shape              Param #   \n",
            "=================================================================\n",
            "flatten (Flatten)            (None, 784)               0         \n",
            "_________________________________________________________________\n",
            "dense (Dense)                (None, 300)               235500    \n",
            "_________________________________________________________________\n",
            "dense_1 (Dense)              (None, 100)               30100     \n",
            "_________________________________________________________________\n",
            "dense_2 (Dense)              (None, 10)                1010      \n",
            "=================================================================\n",
            "Total params: 266,610\n",
            "Trainable params: 266,610\n",
            "Non-trainable params: 0\n",
            "_________________________________________________________________\n"
          ],
          "name": "stdout"
        }
      ]
    },
    {
      "cell_type": "code",
      "metadata": {
        "colab": {
          "base_uri": "https://localhost:8080/",
          "height": 533
        },
        "id": "E3GpIWrsSph4",
        "outputId": "d9c00cb4-5e61-4afd-c156-53696faeda9c"
      },
      "source": [
        "keras.utils.plot_model(model, \"my_fashion_mnist_model.png\", show_shapes=True)"
      ],
      "execution_count": 15,
      "outputs": [
        {
          "output_type": "execute_result",
          "data": {
            "image/png": "[encoded data removed]",
            "text/plain": [
              "<IPython.core.display.Image object>"
            ]
          },
          "metadata": {
            "tags": []
          },
          "execution_count": 15
        }
      ]
    },
    {
      "cell_type": "code",
      "metadata": {
        "id": "zAEGAYOJaBZj"
      },
      "source": [
        "hidden1 = model.layers[1]\r\n",
        "weights, biases = hidden1.get_weights()"
      ],
      "execution_count": 16,
      "outputs": []
    },
    {
      "cell_type": "code",
      "metadata": {
        "colab": {
          "base_uri": "https://localhost:8080/"
        },
        "id": "ux_hCe7SaBWq",
        "outputId": "90158e3d-6d6b-4db5-ea09-fb3dddf8cd4d"
      },
      "source": [
        "weights"
      ],
      "execution_count": 17,
      "outputs": [
        {
          "output_type": "execute_result",
          "data": {
            "text/plain": [
              "array([[ 0.02895392, -0.0617786 ,  0.00592375, ...,  0.01683807,\n",
              "        -0.06246994, -0.00749114],\n",
              "       [-0.04072263,  0.03520129,  0.04482434, ...,  0.06120798,\n",
              "         0.03384661, -0.02605167],\n",
              "       [ 0.06400938, -0.01892945, -0.02577699, ..., -0.00705089,\n",
              "         0.03508049, -0.04730251],\n",
              "       ...,\n",
              "       [ 0.0538782 , -0.02657256, -0.06833465, ...,  0.04287569,\n",
              "         0.02477787, -0.06996515],\n",
              "       [-0.05867221, -0.04633016, -0.00272141, ...,  0.01201697,\n",
              "        -0.02090878, -0.01305524],\n",
              "       [-0.07324306, -0.04787628, -0.00023817, ...,  0.05847108,\n",
              "         0.00618538, -0.05573007]], dtype=float32)"
            ]
          },
          "metadata": {
            "tags": []
          },
          "execution_count": 17
        }
      ]
    },
    {
      "cell_type": "code",
      "metadata": {
        "colab": {
          "base_uri": "https://localhost:8080/"
        },
        "id": "E09MNmEraBSi",
        "outputId": "caf7ae82-6959-4ef1-af73-e7fb5c86d7c4"
      },
      "source": [
        "weights.shape"
      ],
      "execution_count": 18,
      "outputs": [
        {
          "output_type": "execute_result",
          "data": {
            "text/plain": [
              "(784, 300)"
            ]
          },
          "metadata": {
            "tags": []
          },
          "execution_count": 18
        }
      ]
    },
    {
      "cell_type": "code",
      "metadata": {
        "colab": {
          "base_uri": "https://localhost:8080/"
        },
        "id": "AjZBrbMwaBP1",
        "outputId": "680c33ff-03c8-488f-8741-d96878c87d2d"
      },
      "source": [
        "biases"
      ],
      "execution_count": 19,
      "outputs": [
        {
          "output_type": "execute_result",
          "data": {
            "text/plain": [
              "array([0., 0., 0., 0., 0., 0., 0., 0., 0., 0., 0., 0., 0., 0., 0., 0., 0.,\n",
              "       0., 0., 0., 0., 0., 0., 0., 0., 0., 0., 0., 0., 0., 0., 0., 0., 0.,\n",
              "       0., 0., 0., 0., 0., 0., 0., 0., 0., 0., 0., 0., 0., 0., 0., 0., 0.,\n",
              "       0., 0., 0., 0., 0., 0., 0., 0., 0., 0., 0., 0., 0., 0., 0., 0., 0.,\n",
              "       0., 0., 0., 0., 0., 0., 0., 0., 0., 0., 0., 0., 0., 0., 0., 0., 0.,\n",
              "       0., 0., 0., 0., 0., 0., 0., 0., 0., 0., 0., 0., 0., 0., 0., 0., 0.,\n",
              "       0., 0., 0., 0., 0., 0., 0., 0., 0., 0., 0., 0., 0., 0., 0., 0., 0.,\n",
              "       0., 0., 0., 0., 0., 0., 0., 0., 0., 0., 0., 0., 0., 0., 0., 0., 0.,\n",
              "       0., 0., 0., 0., 0., 0., 0., 0., 0., 0., 0., 0., 0., 0., 0., 0., 0.,\n",
              "       0., 0., 0., 0., 0., 0., 0., 0., 0., 0., 0., 0., 0., 0., 0., 0., 0.,\n",
              "       0., 0., 0., 0., 0., 0., 0., 0., 0., 0., 0., 0., 0., 0., 0., 0., 0.,\n",
              "       0., 0., 0., 0., 0., 0., 0., 0., 0., 0., 0., 0., 0., 0., 0., 0., 0.,\n",
              "       0., 0., 0., 0., 0., 0., 0., 0., 0., 0., 0., 0., 0., 0., 0., 0., 0.,\n",
              "       0., 0., 0., 0., 0., 0., 0., 0., 0., 0., 0., 0., 0., 0., 0., 0., 0.,\n",
              "       0., 0., 0., 0., 0., 0., 0., 0., 0., 0., 0., 0., 0., 0., 0., 0., 0.,\n",
              "       0., 0., 0., 0., 0., 0., 0., 0., 0., 0., 0., 0., 0., 0., 0., 0., 0.,\n",
              "       0., 0., 0., 0., 0., 0., 0., 0., 0., 0., 0., 0., 0., 0., 0., 0., 0.,\n",
              "       0., 0., 0., 0., 0., 0., 0., 0., 0., 0., 0.], dtype=float32)"
            ]
          },
          "metadata": {
            "tags": []
          },
          "execution_count": 19
        }
      ]
    },
    {
      "cell_type": "code",
      "metadata": {
        "id": "vY1Ep3ZRaBLh"
      },
      "source": [
        "model.compile(optimizer=keras.optimizers.SGD(learning_rate=0.01),#Dont use \"sgd\"\r\n",
        "        loss=\"sparse_categorical_crossentropy\",\r\n",
        "        metrics=[\"accuracy\"])"
      ],
      "execution_count": 20,
      "outputs": []
    },
    {
      "cell_type": "code",
      "metadata": {
        "id": "1omH9c8waBJB"
      },
      "source": [
        "history = model.fit(X_train, y_train, epochs=30,\r\n",
        "            #batch_size=256,\r\n",
        "            #validation_split=0.3,\r\n",
        "            #class_weight={}\r\n",
        "            validation_data=(X_valid, y_valid))"
      ],
      "execution_count": null,
      "outputs": []
    },
    {
      "cell_type": "code",
      "metadata": {
        "colab": {
          "base_uri": "https://localhost:8080/"
        },
        "id": "ucaWvZp0aBEs",
        "outputId": "03ca03d0-c518-4dbf-8520-1f14dfe1d122"
      },
      "source": [
        "history.params"
      ],
      "execution_count": 22,
      "outputs": [
        {
          "output_type": "execute_result",
          "data": {
            "text/plain": [
              "{'epochs': 30, 'steps': 1719, 'verbose': 1}"
            ]
          },
          "metadata": {
            "tags": []
          },
          "execution_count": 22
        }
      ]
    },
    {
      "cell_type": "code",
      "metadata": {
        "colab": {
          "base_uri": "https://localhost:8080/"
        },
        "id": "iPHFYNEZaBAj",
        "outputId": "e67ab801-4b7c-4a4c-bd1c-107d46427820"
      },
      "source": [
        "history.history.keys()"
      ],
      "execution_count": 23,
      "outputs": [
        {
          "output_type": "execute_result",
          "data": {
            "text/plain": [
              "dict_keys(['loss', 'accuracy', 'val_loss', 'val_accuracy'])"
            ]
          },
          "metadata": {
            "tags": []
          },
          "execution_count": 23
        }
      ]
    },
    {
      "cell_type": "code",
      "metadata": {
        "colab": {
          "base_uri": "https://localhost:8080/",
          "height": 324
        },
        "id": "MhLIy5_3aA9r",
        "outputId": "1d80f79d-d06f-489b-c35d-f054d083ed41"
      },
      "source": [
        "import pandas as pd\r\n",
        "\r\n",
        "pd.DataFrame(history.history).plot(figsize=(8, 5))\r\n",
        "plt.grid(True)\r\n",
        "plt.gca().set_ylim(0, 1)\r\n",
        "plt.show()"
      ],
      "execution_count": 24,
      "outputs": [
        {
          "output_type": "display_data",
          "data": {
            "image/png": "[encoded data removed]",
            "text/plain": [
              "<Figure size 576x360 with 1 Axes>"
            ]
          },
          "metadata": {
            "tags": [],
            "needs_background": "light"
          }
        }
      ]
    },
    {
      "cell_type": "markdown",
      "metadata": {
        "id": "A0ocXP6TYWBo"
      },
      "source": [
        "Adjust model=>\r\n",
        "1. learning rate\r\n",
        "2. Hyperparameter"
      ]
    },
    {
      "cell_type": "code",
      "metadata": {
        "colab": {
          "base_uri": "https://localhost:8080/"
        },
        "id": "ajFGMAXYtDRM",
        "outputId": "3500655d-83fe-445c-c305-78bbf362fb47"
      },
      "source": [
        "model.evaluate(X_test, y_test)"
      ],
      "execution_count": 25,
      "outputs": [
        {
          "output_type": "stream",
          "text": [
            "313/313 [==============================] - 0s 2ms/step - loss: 0.3511 - accuracy: 0.8772\n"
          ],
          "name": "stdout"
        },
        {
          "output_type": "execute_result",
          "data": {
            "text/plain": [
              "[0.3511338233947754, 0.8772000074386597]"
            ]
          },
          "metadata": {
            "tags": []
          },
          "execution_count": 25
        }
      ]
    },
    {
      "cell_type": "code",
      "metadata": {
        "colab": {
          "base_uri": "https://localhost:8080/"
        },
        "id": "eF8NhrFmtDoQ",
        "outputId": "fe185b23-670c-4c10-e6f7-cb71ed3e0aff"
      },
      "source": [
        "X_new = X_test[:3]\r\n",
        "y_proba = model.predict(X_new)\r\n",
        "y_proba.round(2)"
      ],
      "execution_count": 26,
      "outputs": [
        {
          "output_type": "execute_result",
          "data": {
            "text/plain": [
              "array([[0.  , 0.  , 0.  , 0.  , 0.  , 0.  , 0.  , 0.01, 0.  , 0.99],\n",
              "       [0.  , 0.  , 1.  , 0.  , 0.  , 0.  , 0.  , 0.  , 0.  , 0.  ],\n",
              "       [0.  , 1.  , 0.  , 0.  , 0.  , 0.  , 0.  , 0.  , 0.  , 0.  ]],\n",
              "      dtype=float32)"
            ]
          },
          "metadata": {
            "tags": []
          },
          "execution_count": 26
        }
      ]
    },
    {
      "cell_type": "code",
      "metadata": {
        "colab": {
          "base_uri": "https://localhost:8080/"
        },
        "id": "EZFLYomjtEES",
        "outputId": "306c41ef-689c-4723-f7af-7c622b6cdb1d"
      },
      "source": [
        "import numpy as np\r\n",
        "\r\n",
        "y_pred = model.predict_classes(X_new)\r\n",
        "np.array(class_names)[y_pred]"
      ],
      "execution_count": 35,
      "outputs": [
        {
          "output_type": "stream",
          "text": [
            "/usr/local/lib/python3.6/dist-packages/tensorflow/python/keras/engine/sequential.py:450: UserWarning: `model.predict_classes()` is deprecated and will be removed after 2021-01-01. Please use instead:* `np.argmax(model.predict(x), axis=-1)`,   if your model does multi-class classification   (e.g. if it uses a `softmax` last-layer activation).* `(model.predict(x) > 0.5).astype(\"int32\")`,   if your model does binary classification   (e.g. if it uses a `sigmoid` last-layer activation).\n",
            "  warnings.warn('`model.predict_classes()` is deprecated and '\n"
          ],
          "name": "stderr"
        },
        {
          "output_type": "execute_result",
          "data": {
            "text/plain": [
              "array(['Ankle boot', 'Pullover', 'Trouser'], dtype='<U11')"
            ]
          },
          "metadata": {
            "tags": []
          },
          "execution_count": 35
        }
      ]
    },
    {
      "cell_type": "code",
      "metadata": {
        "colab": {
          "base_uri": "https://localhost:8080/",
          "height": 164
        },
        "id": "BBsxw3PbtEBw",
        "outputId": "e6250cd5-7871-4911-bfac-545e14288b33"
      },
      "source": [
        "plt.figure(figsize=(7.2, 2.4))\r\n",
        "for index, image in enumerate(X_new):\r\n",
        "    plt.subplot(1, 3, index + 1)\r\n",
        "    plt.imshow(image, cmap=\"binary\", interpolation=\"nearest\")\r\n",
        "    plt.axis('off')\r\n",
        "    plt.title(class_names[y_test[index]], fontsize=12)\r\n",
        "plt.subplots_adjust(wspace=0.2, hspace=0.5)\r\n",
        "plt.show()"
      ],
      "execution_count": 28,
      "outputs": [
        {
          "output_type": "display_data",
          "data": {
            "image/png": "[encoded data removed]",
            "text/plain": [
              "<Figure size 518.4x172.8 with 3 Axes>"
            ]
          },
          "metadata": {
            "tags": [],
            "needs_background": "light"
          }
        }
      ]
    },
    {
      "cell_type": "markdown",
      "metadata": {
        "id": "SY5wVb_8nUw8"
      },
      "source": [
        "# Save model"
      ]
    },
    {
      "cell_type": "code",
      "metadata": {
        "id": "-IC-Kr8WtD_I"
      },
      "source": [
        "!pip install h5py pyyaml"
      ],
      "execution_count": null,
      "outputs": []
    },
    {
      "cell_type": "code",
      "metadata": {
        "id": "kTMbyAkecvpp"
      },
      "source": [
        "model.save('my_model.h5')"
      ],
      "execution_count": 32,
      "outputs": []
    },
    {
      "cell_type": "code",
      "metadata": {
        "id": "-ukbcLRuegGZ"
      },
      "source": [
        "new_model=keras.models.load_model('my_model.h5')"
      ],
      "execution_count": 33,
      "outputs": []
    },
    {
      "cell_type": "code",
      "metadata": {
        "colab": {
          "base_uri": "https://localhost:8080/"
        },
        "id": "EM6sltHZegWJ",
        "outputId": "de8558ea-0896-4148-c265-8239567d2e97"
      },
      "source": [
        "new_model.evaluate(X_test, y_test)"
      ],
      "execution_count": 34,
      "outputs": [
        {
          "output_type": "stream",
          "text": [
            "313/313 [==============================] - 1s 2ms/step - loss: 0.3511 - accuracy: 0.8772\n"
          ],
          "name": "stdout"
        },
        {
          "output_type": "execute_result",
          "data": {
            "text/plain": [
              "[0.3511338233947754, 0.8772000074386597]"
            ]
          },
          "metadata": {
            "tags": []
          },
          "execution_count": 34
        }
      ]
    },
    {
      "cell_type": "markdown",
      "metadata": {
        "id": "PTWei4-pnq2f"
      },
      "source": [
        "Check point"
      ]
    },
    {
      "cell_type": "code",
      "metadata": {
        "id": "GZf8XjMenqkf"
      },
      "source": [
        "from tensorflow import keras\r\n",
        "\r\n",
        "model = keras.models.Sequential([\r\n",
        "    keras.layers.Dense(30, activation=\"relu\", input_shape=[8]),\r\n",
        "    keras.layers.Dense(30, activation=\"relu\"),\r\n",
        "    keras.layers.Dense(1)\r\n",
        "])\r\n",
        "\r\n"
      ],
      "execution_count": 56,
      "outputs": []
    },
    {
      "cell_type": "code",
      "metadata": {
        "id": "15uvHR5qnqcE"
      },
      "source": [
        "model.compile(loss=\"mse\", optimizer=keras.optimizers.SGD(lr=1e-3))\r\n",
        "checkpoint_cb = keras.callbacks.ModelCheckpoint(\"my_keras_model.h5\", save_best_only=True)\r\n",
        "early_stopping_cb = keras.callbacks.EarlyStopping(patience=10,restore_best_weights=True)\r\n",
        "\r\n",
        "history = model.fit(X_train, y_train, epochs=100,\r\n",
        "                    validation_data=(X_valid, y_valid),\r\n",
        "                    callbacks=[checkpoint_cb, early_stopping_cb])\r\n",
        "mse_test = model.evaluate(X_test, y_test)"
      ],
      "execution_count": null,
      "outputs": []
    },
    {
      "cell_type": "markdown",
      "metadata": {
        "id": "h5Jpkdxbv9ky"
      },
      "source": [
        "Overfitting prevent"
      ]
    },
    {
      "cell_type": "code",
      "metadata": {
        "id": "_F3N9nUinqWA"
      },
      "source": [
        "class PrintValTrainRatioCallback(keras.callbacks.Callback):\r\n",
        "    def on_epoch_end(self, epoch, logs):\r\n",
        "        print(\"\\nval/train: {:.2f}\".format(logs[\"val_loss\"] / logs[\"loss\"]))"
      ],
      "execution_count": null,
      "outputs": []
    },
    {
      "cell_type": "code",
      "metadata": {
        "id": "PoldGuhTnqLO"
      },
      "source": [
        "val_train_ratio_cb = PrintValTrainRatioCallback()\r\n",
        "history = model.fit(X_train, y_train, epochs=1,\r\n",
        "                    validation_data=(X_valid, y_valid),\r\n",
        "                    callbacks=[val_train_ratio_cb])"
      ],
      "execution_count": null,
      "outputs": []
    },
    {
      "cell_type": "markdown",
      "metadata": {
        "id": "n9GOckZJTtDI"
      },
      "source": [
        "# Regression"
      ]
    },
    {
      "cell_type": "code",
      "metadata": {
        "colab": {
          "base_uri": "https://localhost:8080/"
        },
        "id": "RfKKJCJLegka",
        "outputId": "1f39e691-a279-4f82-ae2b-1592db3aff35"
      },
      "source": [
        "from sklearn.datasets import fetch_california_housing\r\n",
        "from sklearn.model_selection import train_test_split\r\n",
        "from sklearn.preprocessing import StandardScaler\r\n",
        "\r\n",
        "housing = fetch_california_housing()\r\n",
        "\r\n",
        "X_train_full, X_test, y_train_full, y_test = train_test_split(housing.data, housing.target, random_state=42)\r\n",
        "X_train, X_valid, y_train, y_valid = train_test_split(X_train_full, y_train_full, random_state=42)\r\n",
        "\r\n",
        "scaler = StandardScaler()\r\n",
        "X_train = scaler.fit_transform(X_train)\r\n",
        "X_valid = scaler.transform(X_valid)\r\n",
        "X_test = scaler.transform(X_test)"
      ],
      "execution_count": 40,
      "outputs": [
        {
          "output_type": "stream",
          "text": [
            "Downloading Cal. housing from https://ndownloader.figshare.com/files/5976036 to /root/scikit_learn_data\n"
          ],
          "name": "stderr"
        }
      ]
    },
    {
      "cell_type": "code",
      "metadata": {
        "colab": {
          "base_uri": "https://localhost:8080/"
        },
        "id": "WCep50sVegzR",
        "outputId": "33c53f3a-013c-4fc3-eef0-1d6b9da051c2"
      },
      "source": [
        "X_train.shape"
      ],
      "execution_count": 41,
      "outputs": [
        {
          "output_type": "execute_result",
          "data": {
            "text/plain": [
              "(11610, 8)"
            ]
          },
          "metadata": {
            "tags": []
          },
          "execution_count": 41
        }
      ]
    },
    {
      "cell_type": "code",
      "metadata": {
        "id": "6Xu-7sB-ehBR"
      },
      "source": [
        "from tensorflow import keras \r\n",
        "\r\n",
        "model = keras.models.Sequential([\r\n",
        "    keras.layers.Dense(30, activation=\"relu\", input_shape=X_train.shape[1:]),\r\n",
        "    keras.layers.Dense(1)\r\n",
        "])\r\n",
        "model.compile(loss=\"mean_squared_error\", optimizer=keras.optimizers.SGD(lr=1e-3))\r\n",
        "history = model.fit(X_train, y_train, epochs=20, validation_data=(X_valid, y_valid))\r\n",
        "mse_test = model.evaluate(X_test, y_test)\r\n",
        "X_new = X_test[:3]\r\n",
        "y_pred = model.predict(X_new)"
      ],
      "execution_count": null,
      "outputs": []
    },
    {
      "cell_type": "code",
      "metadata": {
        "colab": {
          "base_uri": "https://localhost:8080/",
          "height": 268
        },
        "id": "rQ3_lJ0OehOp",
        "outputId": "b36b289a-e6a6-418b-81bc-d565ddd394fa"
      },
      "source": [
        "plt.plot(pd.DataFrame(history.history))\r\n",
        "plt.grid(True)\r\n",
        "plt.gca().set_ylim(0, 1)\r\n",
        "plt.show()"
      ],
      "execution_count": 43,
      "outputs": [
        {
          "output_type": "display_data",
          "data": {
            "image/png": "[encoded data removed]",
            "text/plain": [
              "<Figure size 432x288 with 1 Axes>"
            ]
          },
          "metadata": {
            "tags": [],
            "needs_background": "light"
          }
        }
      ]
    },
    {
      "cell_type": "markdown",
      "metadata": {
        "id": "WGORlXFsfFrU"
      },
      "source": [
        "# Functional model"
      ]
    },
    {
      "cell_type": "code",
      "metadata": {
        "id": "ogq0xmEKZ2oM"
      },
      "source": [
        "from tensorflow import keras\r\n",
        "\r\n",
        "input_A = keras.layers.Input(shape=[5], name=\"wide_input\")\r\n",
        "input_B = keras.layers.Input(shape=[6], name=\"deep_input\")\r\n",
        "hidden1 = keras.layers.Dense(30, activation=\"relu\")(input_B)\r\n",
        "hidden2 = keras.layers.Dense(30, activation=\"relu\")(hidden1)\r\n",
        "concat = keras.layers.concatenate([input_A, hidden2])\r\n",
        "output = keras.layers.Dense(1, name=\"main_output\")(concat)\r\n",
        "aux_output = keras.layers.Dense(1, name=\"aux_output\")(hidden2)\r\n",
        "model = keras.models.Model(inputs=[input_A, input_B],\r\n",
        "                           outputs=[output, aux_output])"
      ],
      "execution_count": 48,
      "outputs": []
    },
    {
      "cell_type": "code",
      "metadata": {
        "id": "Wdd_GSi0ifRZ"
      },
      "source": [
        "#Two params is for two output\r\n",
        "model.compile(loss=[\"mse\", \"mse\"], loss_weights=[0.9, 0.1], optimizer=keras.optimizers.SGD(lr=1e-3))"
      ],
      "execution_count": 49,
      "outputs": []
    },
    {
      "cell_type": "code",
      "metadata": {
        "id": "2OQlSFEtZ2lV"
      },
      "source": [
        "X_train_A, X_train_B = X_train[:, :5], X_train[:, 2:]\r\n",
        "X_valid_A, X_valid_B = X_valid[:, :5], X_valid[:, 2:]\r\n",
        "X_test_A, X_test_B = X_test[:, :5], X_test[:, 2:]\r\n",
        "X_new_A, X_new_B = X_test_A[:3], X_test_B[:3]\r\n",
        "\r\n",
        "history = model.fit([X_train_A, X_train_B], [y_train, y_train], epochs=20,\r\n",
        "                validation_data=([X_valid_A, X_valid_B], [y_valid, y_valid]))"
      ],
      "execution_count": null,
      "outputs": []
    },
    {
      "cell_type": "code",
      "metadata": {
        "colab": {
          "base_uri": "https://localhost:8080/"
        },
        "id": "sBfCvOynjQDQ",
        "outputId": "7767d64d-f59a-42e7-f3bb-003afc1b6bdd"
      },
      "source": [
        "total_loss, main_loss, aux_loss = model.evaluate(\r\n",
        "    [X_test_A, X_test_B], [y_test, y_test])\r\n",
        "y_pred_main, y_pred_aux = model.predict([X_new_A, X_new_B])"
      ],
      "execution_count": 51,
      "outputs": [
        {
          "output_type": "stream",
          "text": [
            "162/162 [==============================] - 0s 2ms/step - loss: 0.4577 - main_output_loss: 0.4283 - aux_output_loss: 0.7223\n",
            "WARNING:tensorflow:5 out of the last 7 calls to <function Model.make_predict_function.<locals>.predict_function at 0x7f15826fe9d8> triggered tf.function retracing. Tracing is expensive and the excessive number of tracings could be due to (1) creating @tf.function repeatedly in a loop, (2) passing tensors with different shapes, (3) passing Python objects instead of tensors. For (1), please define your @tf.function outside of the loop. For (2), @tf.function has experimental_relax_shapes=True option that relaxes argument shapes that can avoid unnecessary retracing. For (3), please refer to https://www.tensorflow.org/guide/function#controlling_retracing and https://www.tensorflow.org/api_docs/python/tf/function for  more details.\n"
          ],
          "name": "stdout"
        }
      ]
    },
    {
      "cell_type": "code",
      "metadata": {
        "colab": {
          "base_uri": "https://localhost:8080/",
          "height": 533
        },
        "id": "R87Z_xE2Z2eo",
        "outputId": "370f55c4-f5e4-496b-c5f8-044b41ba6361"
      },
      "source": [
        "keras.utils.plot_model(model, show_shapes=True)"
      ],
      "execution_count": 52,
      "outputs": [
        {
          "output_type": "execute_result",
          "data": {
            "image/png": "[encoded data removed]",
            "text/plain": [
              "<IPython.core.display.Image object>"
            ]
          },
          "metadata": {
            "tags": []
          },
          "execution_count": 52
        }
      ]
    },
    {
      "cell_type": "markdown",
      "metadata": {
        "id": "0HEJ2COxmAH4"
      },
      "source": [
        "# Subclassing model"
      ]
    },
    {
      "cell_type": "code",
      "metadata": {
        "id": "1Bmgmr0Xl_v-"
      },
      "source": [
        "from tensorflow import keras\r\n",
        "\r\n",
        "class WideAndDeepModel(keras.models.Model):\r\n",
        "    def __init__(self, units=30, activation=\"relu\", **kwargs):\r\n",
        "        super().__init__(**kwargs)\r\n",
        "        self.hidden1 = keras.layers.Dense(units, activation=activation)\r\n",
        "        self.hidden2 = keras.layers.Dense(units, activation=activation)\r\n",
        "        self.main_output = keras.layers.Dense(1)\r\n",
        "        self.aux_output = keras.layers.Dense(1)\r\n",
        "        \r\n",
        "    def call(self, inputs):\r\n",
        "        input_A, input_B = inputs\r\n",
        "        hidden1 = self.hidden1(input_B)\r\n",
        "        hidden2 = self.hidden2(hidden1)\r\n",
        "        concat = keras.layers.concatenate([input_A, hidden2])\r\n",
        "        main_output = self.main_output(concat)\r\n",
        "        aux_output = self.aux_output(hidden2)\r\n",
        "        return main_output, aux_output\r\n",
        "\r\n",
        "model = WideAndDeepModel(30, activation=\"relu\")"
      ],
      "execution_count": 53,
      "outputs": []
    },
    {
      "cell_type": "code",
      "metadata": {
        "id": "fOZirnMWtD2K"
      },
      "source": [
        "model.compile(loss=\"mse\", loss_weights=[0.9, 0.1], optimizer=keras.optimizers.SGD(lr=1e-3))\r\n",
        "history = model.fit((X_train_A, X_train_B), (y_train, y_train), epochs=10,\r\n",
        "                    validation_data=((X_valid_A, X_valid_B), (y_valid, y_valid)))\r\n",
        "total_loss, main_loss, aux_loss = model.evaluate((X_test_A, X_test_B), (y_test, y_test))\r\n",
        "y_pred_main, y_pred_aux = model.predict((X_new_A, X_new_B))"
      ],
      "execution_count": null,
      "outputs": []
    },
    {
      "cell_type": "code",
      "metadata": {
        "colab": {
          "base_uri": "https://localhost:8080/",
          "height": 76
        },
        "id": "CtpNOPGUT1aN",
        "outputId": "5bf33c7b-aa76-4c66-fad4-41850662aa60"
      },
      "source": [
        "keras.utils.plot_model(model, show_shapes=True)"
      ],
      "execution_count": 55,
      "outputs": [
        {
          "output_type": "execute_result",
          "data": {
            "image/png": "[encoded data removed]",
            "text/plain": [
              "<IPython.core.display.Image object>"
            ]
          },
          "metadata": {
            "tags": []
          },
          "execution_count": 55
        }
      ]
    },
    {
      "cell_type": "code",
      "metadata": {
        "id": "xqpED4eefzgE"
      },
      "source": [
        ""
      ],
      "execution_count": null,
      "outputs": []
    },
    {
      "cell_type": "code",
      "metadata": {
        "id": "wTFnW-wPfzdZ"
      },
      "source": [
        ""
      ],
      "execution_count": null,
      "outputs": []
    },
    {
      "cell_type": "code",
      "metadata": {
        "id": "mDPTM9KKfzbH"
      },
      "source": [
        ""
      ],
      "execution_count": null,
      "outputs": []
    },
    {
      "cell_type": "code",
      "metadata": {
        "id": "XUkFrhKKfzZA"
      },
      "source": [
        ""
      ],
      "execution_count": null,
      "outputs": []
    },
    {
      "cell_type": "code",
      "metadata": {
        "id": "ZmOaLAJAfzV_"
      },
      "source": [
        ""
      ],
      "execution_count": null,
      "outputs": []
    },
    {
      "cell_type": "code",
      "metadata": {
        "id": "aZM5CMl6fzT9"
      },
      "source": [
        ""
      ],
      "execution_count": null,
      "outputs": []
    },
    {
      "cell_type": "code",
      "metadata": {
        "id": "19c2Gz0OfzRA"
      },
      "source": [
        ""
      ],
      "execution_count": null,
      "outputs": []
    }
  ]
}