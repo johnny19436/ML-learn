{
  "nbformat": 4,
  "nbformat_minor": 0,
  "metadata": {
    "language_info": {
      "codemirror_mode": {
        "name": "ipython",
        "version": 3
      },
      "file_extension": ".py",
      "mimetype": "text/x-python",
      "name": "python",
      "nbconvert_exporter": "python",
      "pygments_lexer": "ipython3",
      "version": "3.8.5-final"
    },
    "orig_nbformat": 2,
    "kernelspec": {
      "name": "python3",
      "display_name": "Python 3",
      "language": "python"
    },
    "colab": {
      "name": "ML 10",
      "provenance": [],
      "include_colab_link": true
    },
    "accelerator": "GPU"
  },
  "cells": [
    {
      "cell_type": "markdown",
      "metadata": {
        "id": "view-in-github",
        "colab_type": "text"
      },
      "source": [
        "<a href=\"https://colab.research.google.com/github/johnny19436/ML-learn/blob/main/ML_10.ipynb\" target=\"_parent\"><img src=\"https://colab.research.google.com/assets/colab-badge.svg\" alt=\"Open In Colab\"/></a>"
      ]
    },
    {
      "cell_type": "code",
      "metadata": {
        "id": "W69EIYylRzny"
      },
      "source": [
        "from matplotlib import pyplot as plt\r\n",
        "import tensorflow as tf\r\n",
        "from tensorflow import keras"
      ],
      "execution_count": 1,
      "outputs": []
    },
    {
      "cell_type": "code",
      "metadata": {
        "colab": {
          "base_uri": "https://localhost:8080/"
        },
        "id": "AuqKxaHBSqNs",
        "outputId": "dccfb450-262c-432e-8573-f0766b113331"
      },
      "source": [
        "fashion_mnist=keras.datasets.fashion_mnist\r\n",
        "(X_train_full,y_train_full),(X_test,y_test)=fashion_mnist.load_data()"
      ],
      "execution_count": 2,
      "outputs": [
        {
          "output_type": "stream",
          "text": [
            "Downloading data from https://storage.googleapis.com/tensorflow/tf-keras-datasets/train-labels-idx1-ubyte.gz\n",
            "32768/29515 [=================================] - 0s 0us/step\n",
            "Downloading data from https://storage.googleapis.com/tensorflow/tf-keras-datasets/train-images-idx3-ubyte.gz\n",
            "26427392/26421880 [==============================] - 0s 0us/step\n",
            "Downloading data from https://storage.googleapis.com/tensorflow/tf-keras-datasets/t10k-labels-idx1-ubyte.gz\n",
            "8192/5148 [===============================================] - 0s 0us/step\n",
            "Downloading data from https://storage.googleapis.com/tensorflow/tf-keras-datasets/t10k-images-idx3-ubyte.gz\n",
            "4423680/4422102 [==============================] - 0s 0us/step\n"
          ],
          "name": "stdout"
        }
      ]
    },
    {
      "cell_type": "markdown",
      "metadata": {
        "id": "cqa-UTekUTEQ"
      },
      "source": [
        "Each pixel intensity is represented as a byte (0 to 255):"
      ]
    },
    {
      "cell_type": "code",
      "metadata": {
        "colab": {
          "base_uri": "https://localhost:8080/"
        },
        "id": "rldfLsgsZVV6",
        "outputId": "95083d91-3b5e-4d8f-a487-2ea134df69b1"
      },
      "source": [
        "X_train_full.shape"
      ],
      "execution_count": 3,
      "outputs": [
        {
          "output_type": "execute_result",
          "data": {
            "text/plain": [
              "(60000, 28, 28)"
            ]
          },
          "metadata": {
            "tags": []
          },
          "execution_count": 3
        }
      ]
    },
    {
      "cell_type": "code",
      "metadata": {
        "colab": {
          "base_uri": "https://localhost:8080/"
        },
        "id": "p6AC23znSqIf",
        "outputId": "111df3c6-636d-43de-bbb6-1791ab7fa383"
      },
      "source": [
        "X_train_full.dtype"
      ],
      "execution_count": 4,
      "outputs": [
        {
          "output_type": "execute_result",
          "data": {
            "text/plain": [
              "dtype('uint8')"
            ]
          },
          "metadata": {
            "tags": []
          },
          "execution_count": 4
        }
      ]
    },
    {
      "cell_type": "code",
      "metadata": {
        "colab": {
          "base_uri": "https://localhost:8080/"
        },
        "id": "F8yM_sp7Yoja",
        "outputId": "1eb0eb64-ecdd-4524-e32d-cd0ac6fcb716"
      },
      "source": [
        "y_train_full"
      ],
      "execution_count": 5,
      "outputs": [
        {
          "output_type": "execute_result",
          "data": {
            "text/plain": [
              "array([9, 0, 0, ..., 3, 0, 5], dtype=uint8)"
            ]
          },
          "metadata": {
            "tags": []
          },
          "execution_count": 5
        }
      ]
    },
    {
      "cell_type": "code",
      "metadata": {
        "colab": {
          "base_uri": "https://localhost:8080/"
        },
        "id": "pCqms-7XaVRS",
        "outputId": "3915c4e8-6f7b-4f0b-d36a-2ade19ae2b2a"
      },
      "source": [
        "X_test.shape"
      ],
      "execution_count": 6,
      "outputs": [
        {
          "output_type": "execute_result",
          "data": {
            "text/plain": [
              "(10000, 28, 28)"
            ]
          },
          "metadata": {
            "tags": []
          },
          "execution_count": 6
        }
      ]
    },
    {
      "cell_type": "markdown",
      "metadata": {
        "id": "udd9zcHKUy1A"
      },
      "source": [
        "Split the full training set into a validation set and a (smaller) training set.Also scale the pixel intensities down to the 0-1 range and convert them to floats, by dividing by 255."
      ]
    },
    {
      "cell_type": "markdown",
      "metadata": {
        "id": "m-kSH8sNQn7A"
      },
      "source": [
        "You can also use validation_split=0.1"
      ]
    },
    {
      "cell_type": "code",
      "metadata": {
        "id": "uTf6Emi7SqGJ"
      },
      "source": [
        "X_valid,X_train=X_train_full[:5000]/255.,X_train_full[5000:]/255.\r\n",
        "y_valid,y_train=y_train_full[:5000],y_train_full[5000:]\r\n",
        "X_test=X_test/255."
      ],
      "execution_count": 7,
      "outputs": []
    },
    {
      "cell_type": "code",
      "metadata": {
        "colab": {
          "base_uri": "https://localhost:8080/",
          "height": 247
        },
        "id": "uxqI92e5SqBy",
        "outputId": "408290f5-ae5c-453d-b357-e07d49371b8d"
      },
      "source": [
        "plt.imshow(X_train[0],cmap=\"binary\")\r\n",
        "plt.axis('off')\r\n",
        "plt.show()"
      ],
      "execution_count": 8,
      "outputs": [
        {
          "output_type": "display_data",
          "data": {
            "image/png": "[encoded data removed]",
            "text/plain": [
              "<Figure size 432x288 with 1 Axes>"
            ]
          },
          "metadata": {
            "tags": [],
            "needs_background": "light"
          }
        }
      ]
    },
    {
      "cell_type": "markdown",
      "metadata": {
        "id": "-RLXCngbZtHi"
      },
      "source": [
        "Corresponding class names"
      ]
    },
    {
      "cell_type": "code",
      "metadata": {
        "id": "PNc5TpaYSp8v"
      },
      "source": [
        "class_names = [\"T-shirt/top\", \"Trouser\", \"Pullover\", \"Dress\", \"Coat\",\r\n",
        "               \"Sandal\", \"Shirt\", \"Sneaker\", \"Bag\", \"Ankle boot\"]"
      ],
      "execution_count": 9,
      "outputs": []
    },
    {
      "cell_type": "code",
      "metadata": {
        "colab": {
          "base_uri": "https://localhost:8080/",
          "height": 35
        },
        "id": "mvktXIsvSp6S",
        "outputId": "65fba54c-db0e-4af4-bf2e-01a9ff7b9829"
      },
      "source": [
        "class_names[y_train[0]]"
      ],
      "execution_count": 10,
      "outputs": [
        {
          "output_type": "execute_result",
          "data": {
            "application/vnd.google.colaboratory.intrinsic+json": {
              "type": "string"
            },
            "text/plain": [
              "'Coat'"
            ]
          },
          "metadata": {
            "tags": []
          },
          "execution_count": 10
        }
      ]
    },
    {
      "cell_type": "code",
      "metadata": {
        "colab": {
          "base_uri": "https://localhost:8080/",
          "height": 307
        },
        "id": "0f5gZ-s4Sp1u",
        "outputId": "2fc7cd5f-3988-4dbe-aa50-2df04f50af45"
      },
      "source": [
        "n_rows = 4\r\n",
        "n_cols = 10\r\n",
        "plt.figure(figsize=(n_cols * 1.2, n_rows * 1.2))\r\n",
        "for row in range(n_rows):\r\n",
        "    for col in range(n_cols):\r\n",
        "        index = n_cols * row + col\r\n",
        "        plt.subplot(n_rows, n_cols, index + 1)\r\n",
        "        plt.imshow(X_train[index], cmap=\"binary\", interpolation=\"nearest\")\r\n",
        "        plt.axis('off')\r\n",
        "        plt.title(class_names[y_train[index]], fontsize=12)\r\n",
        "plt.subplots_adjust(wspace=0.1, hspace=0.4)\r\n",
        "plt.show()"
      ],
      "execution_count": 11,
      "outputs": [
        {
          "output_type": "display_data",
          "data": {
            "image/png": "[encoded data removed]",
            "text/plain": [
              "<Figure size 864x345.6 with 40 Axes>"
            ]
          },
          "metadata": {
            "tags": [],
            "needs_background": "light"
          }
        }
      ]
    },
    {
      "cell_type": "markdown",
      "metadata": {
        "id": "X4dy1Ceguk46"
      },
      "source": [
        "P.295\r\n",
        "Classification loss to choose\r\n",
        "\r\n",
        "Sparse to One-Hot => keras.utils.categorical()\r\n"
      ]
    },
    {
      "cell_type": "code",
      "metadata": {
        "id": "WNNv95U-Spuo"
      },
      "source": [
        "model = keras.models.Sequential([\r\n",
        "    #keras.layers.Reshape((-1,),input_shape=(28,28)),#Flatten inputs to 1D\r\n",
        "    keras.layers.Flatten(input_shape=[28, 28]),#reshape(-1,1)=>Flatten inputs to 1D\r\n",
        "    keras.layers.Dense(300, activation=\"relu\"),\r\n",
        "    keras.layers.Dense(100, activation=\"relu\"),\r\n",
        "    keras.layers.Dense(10, activation=\"softmax\")\r\n",
        "])"
      ],
      "execution_count": 12,
      "outputs": []
    },
    {
      "cell_type": "code",
      "metadata": {
        "colab": {
          "base_uri": "https://localhost:8080/"
        },
        "id": "z3ILsRkqSpsH",
        "outputId": "502b40e1-5e65-410f-96e0-78b453229ed4"
      },
      "source": [
        "model.layers"
      ],
      "execution_count": 13,
      "outputs": [
        {
          "output_type": "execute_result",
          "data": {
            "text/plain": [
              "[<tensorflow.python.keras.layers.core.Flatten at 0x7f0d5c6e2ef0>,\n",
              " <tensorflow.python.keras.layers.core.Dense at 0x7f0d712e21d0>,\n",
              " <tensorflow.python.keras.layers.core.Dense at 0x7f0d5c66e3c8>,\n",
              " <tensorflow.python.keras.layers.core.Dense at 0x7f0d5c66e710>]"
            ]
          },
          "metadata": {
            "tags": []
          },
          "execution_count": 13
        }
      ]
    },
    {
      "cell_type": "markdown",
      "metadata": {
        "id": "_1kqKaEdml20"
      },
      "source": [
        "Param = ( input_shape + 1(bias) ) * output_shape"
      ]
    },
    {
      "cell_type": "code",
      "metadata": {
        "colab": {
          "base_uri": "https://localhost:8080/"
        },
        "id": "H6FIEZmrSpmx",
        "outputId": "b9a026e5-de78-438c-8baf-a340640dbaa9"
      },
      "source": [
        "model.summary()"
      ],
      "execution_count": 14,
      "outputs": [
        {
          "output_type": "stream",
          "text": [
            "Model: \"sequential\"\n",
            "_________________________________________________________________\n",
            "Layer (type)                 Output Shape              Param #   \n",
            "=================================================================\n",
            "flatten (Flatten)            (None, 784)               0         \n",
            "_________________________________________________________________\n",
            "dense (Dense)                (None, 300)               235500    \n",
            "_________________________________________________________________\n",
            "dense_1 (Dense)              (None, 100)               30100     \n",
            "_________________________________________________________________\n",
            "dense_2 (Dense)              (None, 10)                1010      \n",
            "=================================================================\n",
            "Total params: 266,610\n",
            "Trainable params: 266,610\n",
            "Non-trainable params: 0\n",
            "_________________________________________________________________\n"
          ],
          "name": "stdout"
        }
      ]
    },
    {
      "cell_type": "code",
      "metadata": {
        "colab": {
          "base_uri": "https://localhost:8080/",
          "height": 533
        },
        "id": "E3GpIWrsSph4",
        "outputId": "692394dc-33a0-4f79-de92-c9bb08fde976"
      },
      "source": [
        "keras.utils.plot_model(model, \"my_fashion_mnist_model.png\", show_shapes=True)"
      ],
      "execution_count": 15,
      "outputs": [
        {
          "output_type": "execute_result",
          "data": {
            "image/png": "[encoded data removed]",
            "text/plain": [
              "<IPython.core.display.Image object>"
            ]
          },
          "metadata": {
            "tags": []
          },
          "execution_count": 15
        }
      ]
    },
    {
      "cell_type": "code",
      "metadata": {
        "id": "zAEGAYOJaBZj"
      },
      "source": [
        "hidden1 = model.layers[1]\r\n",
        "weights, biases = hidden1.get_weights()"
      ],
      "execution_count": 16,
      "outputs": []
    },
    {
      "cell_type": "code",
      "metadata": {
        "colab": {
          "base_uri": "https://localhost:8080/"
        },
        "id": "ux_hCe7SaBWq",
        "outputId": "32e4bdb9-a172-4699-dcbc-c19f156082ca"
      },
      "source": [
        "weights"
      ],
      "execution_count": 17,
      "outputs": [
        {
          "output_type": "execute_result",
          "data": {
            "text/plain": [
              "array([[ 0.00068235, -0.03483929,  0.03854904, ...,  0.05625911,\n",
              "         0.04474489,  0.05914953],\n",
              "       [ 0.02207435,  0.04099225, -0.04402683, ..., -0.01520095,\n",
              "         0.07418029,  0.00240549],\n",
              "       [ 0.02429982, -0.01929566, -0.06270497, ..., -0.06898297,\n",
              "         0.07360044,  0.03715734],\n",
              "       ...,\n",
              "       [ 0.05713381,  0.03138337, -0.04717742, ...,  0.00618457,\n",
              "        -0.02110629, -0.06022828],\n",
              "       [ 0.01196975, -0.02367768,  0.02302112, ...,  0.0205787 ,\n",
              "         0.00226115, -0.04794874],\n",
              "       [-0.0038543 ,  0.02286303,  0.04651026, ...,  0.04858641,\n",
              "         0.01321628,  0.01050437]], dtype=float32)"
            ]
          },
          "metadata": {
            "tags": []
          },
          "execution_count": 17
        }
      ]
    },
    {
      "cell_type": "code",
      "metadata": {
        "colab": {
          "base_uri": "https://localhost:8080/"
        },
        "id": "E09MNmEraBSi",
        "outputId": "6cdf697d-cf0e-469a-fd3a-2c3cbdc1d221"
      },
      "source": [
        "weights.shape"
      ],
      "execution_count": 18,
      "outputs": [
        {
          "output_type": "execute_result",
          "data": {
            "text/plain": [
              "(784, 300)"
            ]
          },
          "metadata": {
            "tags": []
          },
          "execution_count": 18
        }
      ]
    },
    {
      "cell_type": "code",
      "metadata": {
        "colab": {
          "base_uri": "https://localhost:8080/"
        },
        "id": "AjZBrbMwaBP1",
        "outputId": "5063da1b-be3d-4431-e889-879e4efda45d"
      },
      "source": [
        "biases"
      ],
      "execution_count": 19,
      "outputs": [
        {
          "output_type": "execute_result",
          "data": {
            "text/plain": [
              "array([0., 0., 0., 0., 0., 0., 0., 0., 0., 0., 0., 0., 0., 0., 0., 0., 0.,\n",
              "       0., 0., 0., 0., 0., 0., 0., 0., 0., 0., 0., 0., 0., 0., 0., 0., 0.,\n",
              "       0., 0., 0., 0., 0., 0., 0., 0., 0., 0., 0., 0., 0., 0., 0., 0., 0.,\n",
              "       0., 0., 0., 0., 0., 0., 0., 0., 0., 0., 0., 0., 0., 0., 0., 0., 0.,\n",
              "       0., 0., 0., 0., 0., 0., 0., 0., 0., 0., 0., 0., 0., 0., 0., 0., 0.,\n",
              "       0., 0., 0., 0., 0., 0., 0., 0., 0., 0., 0., 0., 0., 0., 0., 0., 0.,\n",
              "       0., 0., 0., 0., 0., 0., 0., 0., 0., 0., 0., 0., 0., 0., 0., 0., 0.,\n",
              "       0., 0., 0., 0., 0., 0., 0., 0., 0., 0., 0., 0., 0., 0., 0., 0., 0.,\n",
              "       0., 0., 0., 0., 0., 0., 0., 0., 0., 0., 0., 0., 0., 0., 0., 0., 0.,\n",
              "       0., 0., 0., 0., 0., 0., 0., 0., 0., 0., 0., 0., 0., 0., 0., 0., 0.,\n",
              "       0., 0., 0., 0., 0., 0., 0., 0., 0., 0., 0., 0., 0., 0., 0., 0., 0.,\n",
              "       0., 0., 0., 0., 0., 0., 0., 0., 0., 0., 0., 0., 0., 0., 0., 0., 0.,\n",
              "       0., 0., 0., 0., 0., 0., 0., 0., 0., 0., 0., 0., 0., 0., 0., 0., 0.,\n",
              "       0., 0., 0., 0., 0., 0., 0., 0., 0., 0., 0., 0., 0., 0., 0., 0., 0.,\n",
              "       0., 0., 0., 0., 0., 0., 0., 0., 0., 0., 0., 0., 0., 0., 0., 0., 0.,\n",
              "       0., 0., 0., 0., 0., 0., 0., 0., 0., 0., 0., 0., 0., 0., 0., 0., 0.,\n",
              "       0., 0., 0., 0., 0., 0., 0., 0., 0., 0., 0., 0., 0., 0., 0., 0., 0.,\n",
              "       0., 0., 0., 0., 0., 0., 0., 0., 0., 0., 0.], dtype=float32)"
            ]
          },
          "metadata": {
            "tags": []
          },
          "execution_count": 19
        }
      ]
    },
    {
      "cell_type": "code",
      "metadata": {
        "id": "vY1Ep3ZRaBLh"
      },
      "source": [
        "model.compile(optimizer=keras.optimizers.SGD(learning_rate=0.01),#Dont use \"sgd\"\r\n",
        "        loss=\"sparse_categorical_crossentropy\",\r\n",
        "        metrics=[\"accuracy\"])"
      ],
      "execution_count": 20,
      "outputs": []
    },
    {
      "cell_type": "code",
      "metadata": {
        "colab": {
          "base_uri": "https://localhost:8080/"
        },
        "id": "1omH9c8waBJB",
        "outputId": "c7212e6a-7c91-4137-ae5f-8603cc30835f"
      },
      "source": [
        "history = model.fit(X_train, y_train, epochs=30,\r\n",
        "            #batch_size=256,\r\n",
        "            #validation_split=0.3,\r\n",
        "            #class_weight={}\r\n",
        "            validation_data=(X_valid, y_valid))"
      ],
      "execution_count": 25,
      "outputs": [
        {
          "output_type": "stream",
          "text": [
            "Epoch 1/30\n",
            "1719/1719 [==============================] - 4s 2ms/step - loss: 0.2243 - accuracy: 0.9192 - val_loss: 0.3130 - val_accuracy: 0.8866\n",
            "Epoch 2/30\n",
            "1719/1719 [==============================] - 4s 2ms/step - loss: 0.2205 - accuracy: 0.9211 - val_loss: 0.2964 - val_accuracy: 0.8938\n",
            "Epoch 3/30\n",
            "1719/1719 [==============================] - 3s 2ms/step - loss: 0.2174 - accuracy: 0.9218 - val_loss: 0.3108 - val_accuracy: 0.8874\n",
            "Epoch 4/30\n",
            "1719/1719 [==============================] - 4s 2ms/step - loss: 0.2139 - accuracy: 0.9225 - val_loss: 0.2979 - val_accuracy: 0.8908\n",
            "Epoch 5/30\n",
            "1719/1719 [==============================] - 4s 2ms/step - loss: 0.2099 - accuracy: 0.9247 - val_loss: 0.2976 - val_accuracy: 0.8934\n",
            "Epoch 6/30\n",
            "1719/1719 [==============================] - 4s 2ms/step - loss: 0.2067 - accuracy: 0.9257 - val_loss: 0.2862 - val_accuracy: 0.8984\n",
            "Epoch 7/30\n",
            "1719/1719 [==============================] - 4s 2ms/step - loss: 0.2027 - accuracy: 0.9278 - val_loss: 0.3002 - val_accuracy: 0.8918\n",
            "Epoch 8/30\n",
            "1719/1719 [==============================] - 4s 2ms/step - loss: 0.2009 - accuracy: 0.9271 - val_loss: 0.2862 - val_accuracy: 0.8958\n",
            "Epoch 9/30\n",
            "1719/1719 [==============================] - 4s 2ms/step - loss: 0.1979 - accuracy: 0.9282 - val_loss: 0.2903 - val_accuracy: 0.8930\n",
            "Epoch 10/30\n",
            "1719/1719 [==============================] - 3s 2ms/step - loss: 0.1949 - accuracy: 0.9300 - val_loss: 0.2833 - val_accuracy: 0.8994\n",
            "Epoch 11/30\n",
            "1719/1719 [==============================] - 4s 2ms/step - loss: 0.1911 - accuracy: 0.9311 - val_loss: 0.3213 - val_accuracy: 0.8846\n",
            "Epoch 12/30\n",
            "1719/1719 [==============================] - 4s 2ms/step - loss: 0.1893 - accuracy: 0.9316 - val_loss: 0.2962 - val_accuracy: 0.8944\n",
            "Epoch 13/30\n",
            "1719/1719 [==============================] - 4s 2ms/step - loss: 0.1856 - accuracy: 0.9339 - val_loss: 0.2972 - val_accuracy: 0.8890\n",
            "Epoch 14/30\n",
            "1719/1719 [==============================] - 4s 2ms/step - loss: 0.1826 - accuracy: 0.9344 - val_loss: 0.2846 - val_accuracy: 0.9018\n",
            "Epoch 15/30\n",
            "1719/1719 [==============================] - 4s 2ms/step - loss: 0.1790 - accuracy: 0.9360 - val_loss: 0.3031 - val_accuracy: 0.8930\n",
            "Epoch 16/30\n",
            "1719/1719 [==============================] - 4s 2ms/step - loss: 0.1760 - accuracy: 0.9374 - val_loss: 0.3008 - val_accuracy: 0.8894\n",
            "Epoch 17/30\n",
            "1719/1719 [==============================] - 4s 2ms/step - loss: 0.1736 - accuracy: 0.9386 - val_loss: 0.2817 - val_accuracy: 0.8992\n",
            "Epoch 18/30\n",
            "1719/1719 [==============================] - 4s 2ms/step - loss: 0.1714 - accuracy: 0.9380 - val_loss: 0.2846 - val_accuracy: 0.8996\n",
            "Epoch 19/30\n",
            "1719/1719 [==============================] - 4s 2ms/step - loss: 0.1675 - accuracy: 0.9398 - val_loss: 0.2907 - val_accuracy: 0.9004\n",
            "Epoch 20/30\n",
            "1719/1719 [==============================] - 4s 2ms/step - loss: 0.1660 - accuracy: 0.9395 - val_loss: 0.2860 - val_accuracy: 0.8996\n",
            "Epoch 21/30\n",
            "1719/1719 [==============================] - 4s 2ms/step - loss: 0.1625 - accuracy: 0.9425 - val_loss: 0.2885 - val_accuracy: 0.9030\n",
            "Epoch 22/30\n",
            "1719/1719 [==============================] - 4s 2ms/step - loss: 0.1608 - accuracy: 0.9430 - val_loss: 0.3173 - val_accuracy: 0.8938\n",
            "Epoch 23/30\n",
            "1719/1719 [==============================] - 4s 2ms/step - loss: 0.1585 - accuracy: 0.9433 - val_loss: 0.3055 - val_accuracy: 0.8960\n",
            "Epoch 24/30\n",
            "1719/1719 [==============================] - 4s 2ms/step - loss: 0.1557 - accuracy: 0.9455 - val_loss: 0.2946 - val_accuracy: 0.8960\n",
            "Epoch 25/30\n",
            "1719/1719 [==============================] - 3s 2ms/step - loss: 0.1526 - accuracy: 0.9462 - val_loss: 0.3064 - val_accuracy: 0.8902\n",
            "Epoch 26/30\n",
            "1719/1719 [==============================] - 4s 2ms/step - loss: 0.1503 - accuracy: 0.9465 - val_loss: 0.3082 - val_accuracy: 0.8898\n",
            "Epoch 27/30\n",
            "1719/1719 [==============================] - 4s 2ms/step - loss: 0.1501 - accuracy: 0.9462 - val_loss: 0.3021 - val_accuracy: 0.8964\n",
            "Epoch 28/30\n",
            "1719/1719 [==============================] - 3s 2ms/step - loss: 0.1464 - accuracy: 0.9488 - val_loss: 0.2959 - val_accuracy: 0.9000\n",
            "Epoch 29/30\n",
            "1719/1719 [==============================] - 4s 2ms/step - loss: 0.1440 - accuracy: 0.9492 - val_loss: 0.2991 - val_accuracy: 0.8992\n",
            "Epoch 30/30\n",
            "1719/1719 [==============================] - 4s 2ms/step - loss: 0.1423 - accuracy: 0.9495 - val_loss: 0.3033 - val_accuracy: 0.8966\n"
          ],
          "name": "stdout"
        }
      ]
    },
    {
      "cell_type": "code",
      "metadata": {
        "colab": {
          "base_uri": "https://localhost:8080/"
        },
        "id": "ucaWvZp0aBEs",
        "outputId": "a55b48be-8b9a-415f-d892-ad53d7910ec5"
      },
      "source": [
        "history.params"
      ],
      "execution_count": 22,
      "outputs": [
        {
          "output_type": "execute_result",
          "data": {
            "text/plain": [
              "{'epochs': 30, 'steps': 1719, 'verbose': 1}"
            ]
          },
          "metadata": {
            "tags": []
          },
          "execution_count": 22
        }
      ]
    },
    {
      "cell_type": "code",
      "metadata": {
        "colab": {
          "base_uri": "https://localhost:8080/"
        },
        "id": "iPHFYNEZaBAj",
        "outputId": "90240e60-c7a9-44ed-f85e-0caadabc5aaa"
      },
      "source": [
        "history.history.keys()"
      ],
      "execution_count": 23,
      "outputs": [
        {
          "output_type": "execute_result",
          "data": {
            "text/plain": [
              "dict_keys(['loss', 'accuracy', 'val_loss', 'val_accuracy'])"
            ]
          },
          "metadata": {
            "tags": []
          },
          "execution_count": 23
        }
      ]
    },
    {
      "cell_type": "code",
      "metadata": {
        "colab": {
          "base_uri": "https://localhost:8080/",
          "height": 324
        },
        "id": "MhLIy5_3aA9r",
        "outputId": "eea73635-7710-4a48-902e-699faa00b915"
      },
      "source": [
        "import pandas as pd\r\n",
        "\r\n",
        "pd.DataFrame(history.history).plot(figsize=(8, 5))\r\n",
        "plt.grid(True)\r\n",
        "plt.gca().set_ylim(0, 1)\r\n",
        "plt.show()"
      ],
      "execution_count": 24,
      "outputs": [
        {
          "output_type": "display_data",
          "data": {
            "image/png": "[encoded data removed]",
            "text/plain": [
              "<Figure size 576x360 with 1 Axes>"
            ]
          },
          "metadata": {
            "tags": [],
            "needs_background": "light"
          }
        }
      ]
    },
    {
      "cell_type": "markdown",
      "metadata": {
        "id": "A0ocXP6TYWBo"
      },
      "source": [
        "Adjust model=>\r\n",
        "1. learning rate\r\n",
        "2. Hyperparameter"
      ]
    },
    {
      "cell_type": "code",
      "metadata": {
        "colab": {
          "base_uri": "https://localhost:8080/"
        },
        "id": "ajFGMAXYtDRM",
        "outputId": "5e780da7-d055-421f-aa7c-d15b3b30cced"
      },
      "source": [
        "model.evaluate(X_test, y_test)"
      ],
      "execution_count": 26,
      "outputs": [
        {
          "output_type": "stream",
          "text": [
            "313/313 [==============================] - 1s 2ms/step - loss: 0.3390 - accuracy: 0.8871\n"
          ],
          "name": "stdout"
        },
        {
          "output_type": "execute_result",
          "data": {
            "text/plain": [
              "[0.3390234708786011, 0.8870999813079834]"
            ]
          },
          "metadata": {
            "tags": []
          },
          "execution_count": 26
        }
      ]
    },
    {
      "cell_type": "code",
      "metadata": {
        "colab": {
          "base_uri": "https://localhost:8080/"
        },
        "id": "eF8NhrFmtDoQ",
        "outputId": "9f6b5f48-2d42-45f7-ff93-b4361ef3eb63"
      },
      "source": [
        "X_new = X_test[:3]\r\n",
        "y_proba = model.predict(X_new)\r\n",
        "y_proba.round(2)"
      ],
      "execution_count": 29,
      "outputs": [
        {
          "output_type": "execute_result",
          "data": {
            "text/plain": [
              "array([[0., 0., 0., 0., 0., 0., 0., 0., 0., 1.],\n",
              "       [0., 0., 1., 0., 0., 0., 0., 0., 0., 0.],\n",
              "       [0., 1., 0., 0., 0., 0., 0., 0., 0., 0.]], dtype=float32)"
            ]
          },
          "metadata": {
            "tags": []
          },
          "execution_count": 29
        }
      ]
    },
    {
      "cell_type": "code",
      "metadata": {
        "colab": {
          "base_uri": "https://localhost:8080/"
        },
        "id": "EZFLYomjtEES",
        "outputId": "9ccc51de-2667-4fef-ab20-0123f6c54bd0"
      },
      "source": [
        "import numpy as np\r\n",
        "\r\n",
        "y_pred = model.predict_classes(X_new)\r\n",
        "np.array(class_names)[y_pred]"
      ],
      "execution_count": 32,
      "outputs": [
        {
          "output_type": "stream",
          "text": [
            "/usr/local/lib/python3.6/dist-packages/tensorflow/python/keras/engine/sequential.py:450: UserWarning: `model.predict_classes()` is deprecated and will be removed after 2021-01-01. Please use instead:* `np.argmax(model.predict(x), axis=-1)`,   if your model does multi-class classification   (e.g. if it uses a `softmax` last-layer activation).* `(model.predict(x) > 0.5).astype(\"int32\")`,   if your model does binary classification   (e.g. if it uses a `sigmoid` last-layer activation).\n",
            "  warnings.warn('`model.predict_classes()` is deprecated and '\n"
          ],
          "name": "stderr"
        },
        {
          "output_type": "execute_result",
          "data": {
            "text/plain": [
              "array(['Ankle boot', 'Pullover', 'Trouser'], dtype='<U11')"
            ]
          },
          "metadata": {
            "tags": []
          },
          "execution_count": 32
        }
      ]
    },
    {
      "cell_type": "code",
      "metadata": {
        "colab": {
          "base_uri": "https://localhost:8080/",
          "height": 164
        },
        "id": "BBsxw3PbtEBw",
        "outputId": "a1accf4b-1d4a-4e70-8e58-30c590caa046"
      },
      "source": [
        "plt.figure(figsize=(7.2, 2.4))\r\n",
        "for index, image in enumerate(X_new):\r\n",
        "    plt.subplot(1, 3, index + 1)\r\n",
        "    plt.imshow(image, cmap=\"binary\", interpolation=\"nearest\")\r\n",
        "    plt.axis('off')\r\n",
        "    plt.title(class_names[y_test[index]], fontsize=12)\r\n",
        "plt.subplots_adjust(wspace=0.2, hspace=0.5)\r\n",
        "plt.show()"
      ],
      "execution_count": 34,
      "outputs": [
        {
          "output_type": "display_data",
          "data": {
            "image/png": "[encoded data removed]",
            "text/plain": [
              "<Figure size 518.4x172.8 with 3 Axes>"
            ]
          },
          "metadata": {
            "tags": [],
            "needs_background": "light"
          }
        }
      ]
    },
    {
      "cell_type": "code",
      "metadata": {
        "id": "-IC-Kr8WtD_I"
      },
      "source": [
        ""
      ],
      "execution_count": 24,
      "outputs": []
    },
    {
      "cell_type": "code",
      "metadata": {
        "id": "kTMbyAkecvpp"
      },
      "source": [
        ""
      ],
      "execution_count": null,
      "outputs": []
    },
    {
      "cell_type": "code",
      "metadata": {
        "id": "-ukbcLRuegGZ"
      },
      "source": [
        ""
      ],
      "execution_count": null,
      "outputs": []
    },
    {
      "cell_type": "code",
      "metadata": {
        "id": "EM6sltHZegWJ"
      },
      "source": [
        ""
      ],
      "execution_count": null,
      "outputs": []
    },
    {
      "cell_type": "code",
      "metadata": {
        "id": "RfKKJCJLegka"
      },
      "source": [
        ""
      ],
      "execution_count": null,
      "outputs": []
    },
    {
      "cell_type": "code",
      "metadata": {
        "id": "WCep50sVegzR"
      },
      "source": [
        ""
      ],
      "execution_count": null,
      "outputs": []
    },
    {
      "cell_type": "code",
      "metadata": {
        "id": "6Xu-7sB-ehBR"
      },
      "source": [
        ""
      ],
      "execution_count": null,
      "outputs": []
    },
    {
      "cell_type": "code",
      "metadata": {
        "id": "rQ3_lJ0OehOp"
      },
      "source": [
        ""
      ],
      "execution_count": null,
      "outputs": []
    },
    {
      "cell_type": "code",
      "metadata": {
        "id": "fOZirnMWtD2K"
      },
      "source": [
        ""
      ],
      "execution_count": 24,
      "outputs": []
    }
  ]
}