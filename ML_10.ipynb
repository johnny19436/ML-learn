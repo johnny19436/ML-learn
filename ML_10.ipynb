{
  "nbformat": 4,
  "nbformat_minor": 0,
  "metadata": {
    "language_info": {
      "codemirror_mode": {
        "name": "ipython",
        "version": 3
      },
      "file_extension": ".py",
      "mimetype": "text/x-python",
      "name": "python",
      "nbconvert_exporter": "python",
      "pygments_lexer": "ipython3",
      "version": "3.8.5-final"
    },
    "orig_nbformat": 2,
    "kernelspec": {
      "name": "python3",
      "display_name": "Python 3",
      "language": "python"
    },
    "colab": {
      "name": "ML 10",
      "provenance": [],
      "include_colab_link": true
    }
  },
  "cells": [
    {
      "cell_type": "markdown",
      "metadata": {
        "id": "view-in-github",
        "colab_type": "text"
      },
      "source": [
        "<a href=\"https://colab.research.google.com/github/johnny19436/ML-learn/blob/main/ML_10.ipynb\" target=\"_parent\"><img src=\"https://colab.research.google.com/assets/colab-badge.svg\" alt=\"Open In Colab\"/></a>"
      ]
    },
    {
      "cell_type": "code",
      "metadata": {
        "id": "W69EIYylRzny"
      },
      "source": [
        "from matplotlib import pyplot as plt\r\n",
        "import tensorflow as tf\r\n",
        "from tensorflow import keras"
      ],
      "execution_count": 8,
      "outputs": []
    },
    {
      "cell_type": "code",
      "metadata": {
        "id": "AuqKxaHBSqNs"
      },
      "source": [
        "fashion_mnist=keras.datasets.fashion_mnist\r\n",
        "(X_train_full,y_train_full),(X_test,y_test)=fashion_mnist.load_data()"
      ],
      "execution_count": null,
      "outputs": []
    },
    {
      "cell_type": "markdown",
      "metadata": {
        "id": "cqa-UTekUTEQ"
      },
      "source": [
        "Each pixel intensity is represented as a byte (0 to 255):"
      ]
    },
    {
      "cell_type": "code",
      "metadata": {
        "colab": {
          "base_uri": "https://localhost:8080/"
        },
        "id": "rldfLsgsZVV6",
        "outputId": "e05ad52c-4fa8-435c-e72e-581a02ef79dd"
      },
      "source": [
        "X_train_full.shape"
      ],
      "execution_count": 23,
      "outputs": [
        {
          "output_type": "execute_result",
          "data": {
            "text/plain": [
              "(60000, 28, 28)"
            ]
          },
          "metadata": {
            "tags": []
          },
          "execution_count": 23
        }
      ]
    },
    {
      "cell_type": "code",
      "metadata": {
        "colab": {
          "base_uri": "https://localhost:8080/"
        },
        "id": "p6AC23znSqIf",
        "outputId": "292deb47-c428-42b2-f299-ca7208eb5a95"
      },
      "source": [
        "X_train_full.dtype"
      ],
      "execution_count": 7,
      "outputs": [
        {
          "output_type": "execute_result",
          "data": {
            "text/plain": [
              "dtype('uint8')"
            ]
          },
          "metadata": {
            "tags": []
          },
          "execution_count": 7
        }
      ]
    },
    {
      "cell_type": "code",
      "metadata": {
        "colab": {
          "base_uri": "https://localhost:8080/"
        },
        "id": "F8yM_sp7Yoja",
        "outputId": "2e3c1df8-c145-4385-c021-6d48718fe159"
      },
      "source": [
        "y_train_full"
      ],
      "execution_count": 24,
      "outputs": [
        {
          "output_type": "execute_result",
          "data": {
            "text/plain": [
              "array([9, 0, 0, ..., 3, 0, 5], dtype=uint8)"
            ]
          },
          "metadata": {
            "tags": []
          },
          "execution_count": 24
        }
      ]
    },
    {
      "cell_type": "code",
      "metadata": {
        "colab": {
          "base_uri": "https://localhost:8080/"
        },
        "id": "pCqms-7XaVRS",
        "outputId": "89c6d923-79a5-498f-8ad9-03c6b68bcc55"
      },
      "source": [
        "X_test.shape"
      ],
      "execution_count": 32,
      "outputs": [
        {
          "output_type": "execute_result",
          "data": {
            "text/plain": [
              "(10000, 28, 28)"
            ]
          },
          "metadata": {
            "tags": []
          },
          "execution_count": 32
        }
      ]
    },
    {
      "cell_type": "markdown",
      "metadata": {
        "id": "udd9zcHKUy1A"
      },
      "source": [
        "Split the full training set into a validation set and a (smaller) training set.Also scale the pixel intensities down to the 0-1 range and convert them to floats, by dividing by 255."
      ]
    },
    {
      "cell_type": "code",
      "metadata": {
        "id": "uTf6Emi7SqGJ"
      },
      "source": [
        "X_valid,X_train=X_train_full[:5000]/255.,X_train_full[5000:]/255.\r\n",
        "y_valid,y_train=y_train_full[:5000],y_train_full[5000:]\r\n",
        "X_test=X_test/255."
      ],
      "execution_count": 28,
      "outputs": []
    },
    {
      "cell_type": "code",
      "metadata": {
        "colab": {
          "base_uri": "https://localhost:8080/",
          "height": 247
        },
        "id": "uxqI92e5SqBy",
        "outputId": "a017af75-a3fb-40cc-8022-f48cfe27a239"
      },
      "source": [
        "plt.imshow(X_train[0],cmap=\"binary\")\r\n",
        "plt.axis('off')\r\n",
        "plt.show()"
      ],
      "execution_count": 29,
      "outputs": [
        {
          "output_type": "display_data",
          "data": {
            "image/png": "[encoded data removed]",
            "text/plain": [
              "<Figure size 432x288 with 1 Axes>"
            ]
          },
          "metadata": {
            "tags": [],
            "needs_background": "light"
          }
        }
      ]
    },
    {
      "cell_type": "markdown",
      "metadata": {
        "id": "-RLXCngbZtHi"
      },
      "source": [
        "Corresponding class names"
      ]
    },
    {
      "cell_type": "code",
      "metadata": {
        "id": "PNc5TpaYSp8v"
      },
      "source": [
        "class_names = [\"T-shirt/top\", \"Trouser\", \"Pullover\", \"Dress\", \"Coat\",\r\n",
        "               \"Sandal\", \"Shirt\", \"Sneaker\", \"Bag\", \"Ankle boot\"]"
      ],
      "execution_count": 30,
      "outputs": []
    },
    {
      "cell_type": "code",
      "metadata": {
        "colab": {
          "base_uri": "https://localhost:8080/",
          "height": 35
        },
        "id": "mvktXIsvSp6S",
        "outputId": "a4c350ed-e637-46f5-9386-b088ca8c3436"
      },
      "source": [
        "class_names[y_train[0]]"
      ],
      "execution_count": 31,
      "outputs": [
        {
          "output_type": "execute_result",
          "data": {
            "application/vnd.google.colaboratory.intrinsic+json": {
              "type": "string"
            },
            "text/plain": [
              "'Coat'"
            ]
          },
          "metadata": {
            "tags": []
          },
          "execution_count": 31
        }
      ]
    },
    {
      "cell_type": "code",
      "metadata": {
        "colab": {
          "base_uri": "https://localhost:8080/",
          "height": 307
        },
        "id": "0f5gZ-s4Sp1u",
        "outputId": "985d3a19-cf87-492d-8ba0-bfddafc8f8bf"
      },
      "source": [
        "n_rows = 4\r\n",
        "n_cols = 10\r\n",
        "plt.figure(figsize=(n_cols * 1.2, n_rows * 1.2))\r\n",
        "for row in range(n_rows):\r\n",
        "    for col in range(n_cols):\r\n",
        "        index = n_cols * row + col\r\n",
        "        plt.subplot(n_rows, n_cols, index + 1)\r\n",
        "        plt.imshow(X_train[index], cmap=\"binary\", interpolation=\"nearest\")\r\n",
        "        plt.axis('off')\r\n",
        "        plt.title(class_names[y_train[index]], fontsize=12)\r\n",
        "plt.subplots_adjust(wspace=0.1, hspace=0.4)\r\n",
        "plt.show()"
      ],
      "execution_count": 49,
      "outputs": [
        {
          "output_type": "display_data",
          "data": {
            "image/png": "[encoded data removed]",
            "text/plain": [
              "<Figure size 864x345.6 with 40 Axes>"
            ]
          },
          "metadata": {
            "tags": [],
            "needs_background": "light"
          }
        }
      ]
    },
    {
      "cell_type": "markdown",
      "metadata": {
        "id": "X4dy1Ceguk46"
      },
      "source": [
        "P.295\r\n",
        "Classification loss to choose"
      ]
    },
    {
      "cell_type": "code",
      "metadata": {
        "id": "WNNv95U-Spuo"
      },
      "source": [
        "model = keras.models.Sequential([\r\n",
        "    #keras.layers.Reshape((-1,),input_shape=(28,28)),#Flatten inputs to 1D\r\n",
        "    keras.layers.Flatten(input_shape=[28, 28]),#reshape(-1,1)=>Flatten inputs to 1D\r\n",
        "    keras.layers.Dense(300, activation=\"relu\"),\r\n",
        "    keras.layers.Dense(100, activation=\"relu\"),\r\n",
        "    keras.layers.Dense(10, activation=\"softmax\")\r\n",
        "])"
      ],
      "execution_count": 86,
      "outputs": []
    },
    {
      "cell_type": "code",
      "metadata": {
        "colab": {
          "base_uri": "https://localhost:8080/"
        },
        "id": "z3ILsRkqSpsH",
        "outputId": "7f476f91-90cd-4104-a198-173bb848d211"
      },
      "source": [
        "model.layers"
      ],
      "execution_count": 77,
      "outputs": [
        {
          "output_type": "execute_result",
          "data": {
            "text/plain": [
              "[<tensorflow.python.keras.layers.core.Flatten at 0x7f98c002a860>,\n",
              " <tensorflow.python.keras.layers.core.Dense at 0x7f98c002a198>,\n",
              " <tensorflow.python.keras.layers.core.Dense at 0x7f98c074b2b0>,\n",
              " <tensorflow.python.keras.layers.core.Dense at 0x7f98c0032a58>]"
            ]
          },
          "metadata": {
            "tags": []
          },
          "execution_count": 77
        }
      ]
    },
    {
      "cell_type": "markdown",
      "metadata": {
        "id": "_1kqKaEdml20"
      },
      "source": [
        "Param = ( input_shape + 1(bias) ) * output_shape"
      ]
    },
    {
      "cell_type": "code",
      "metadata": {
        "colab": {
          "base_uri": "https://localhost:8080/"
        },
        "id": "H6FIEZmrSpmx",
        "outputId": "57208b02-ce36-4dfd-d29d-1e69d3541ca6"
      },
      "source": [
        "model.summary()"
      ],
      "execution_count": 78,
      "outputs": [
        {
          "output_type": "stream",
          "text": [
            "Model: \"sequential_5\"\n",
            "_________________________________________________________________\n",
            "Layer (type)                 Output Shape              Param #   \n",
            "=================================================================\n",
            "flatten_2 (Flatten)          (None, 784)               0         \n",
            "_________________________________________________________________\n",
            "dense_15 (Dense)             (None, 300)               235500    \n",
            "_________________________________________________________________\n",
            "dense_16 (Dense)             (None, 100)               30100     \n",
            "_________________________________________________________________\n",
            "dense_17 (Dense)             (None, 10)                1010      \n",
            "=================================================================\n",
            "Total params: 266,610\n",
            "Trainable params: 266,610\n",
            "Non-trainable params: 0\n",
            "_________________________________________________________________\n"
          ],
          "name": "stdout"
        }
      ]
    },
    {
      "cell_type": "code",
      "metadata": {
        "colab": {
          "base_uri": "https://localhost:8080/",
          "height": 533
        },
        "id": "E3GpIWrsSph4",
        "outputId": "e57d081f-6587-4e79-cb7c-b99234e9582a"
      },
      "source": [
        "keras.utils.plot_model(model, \"my_fashion_mnist_model.png\", show_shapes=True)"
      ],
      "execution_count": 87,
      "outputs": [
        {
          "output_type": "execute_result",
          "data": {
            "image/png": "[encoded data removed]",
            "text/plain": [
              "<IPython.core.display.Image object>"
            ]
          },
          "metadata": {
            "tags": []
          },
          "execution_count": 87
        }
      ]
    },
    {
      "cell_type": "code",
      "metadata": {
        "id": "zAEGAYOJaBZj"
      },
      "source": [
        "hidden1 = model.layers[1]\r\n",
        "weights, biases = hidden1.get_weights()"
      ],
      "execution_count": 80,
      "outputs": []
    },
    {
      "cell_type": "code",
      "metadata": {
        "colab": {
          "base_uri": "https://localhost:8080/"
        },
        "id": "ux_hCe7SaBWq",
        "outputId": "82012452-60c3-43b5-fa36-c704ddbd0766"
      },
      "source": [
        "weights"
      ],
      "execution_count": 81,
      "outputs": [
        {
          "output_type": "execute_result",
          "data": {
            "text/plain": [
              "array([[-0.00280226,  0.00376392,  0.05520308, ...,  0.00405539,\n",
              "        -0.01547995, -0.03835016],\n",
              "       [ 0.03209374, -0.06303272,  0.02721448, ...,  0.02001642,\n",
              "         0.01207648, -0.05951412],\n",
              "       [ 0.04878334, -0.01992021, -0.05478077, ..., -0.06241732,\n",
              "        -0.01821018, -0.03565376],\n",
              "       ...,\n",
              "       [-0.05848433,  0.00276228,  0.02715843, ...,  0.02192697,\n",
              "         0.06705531, -0.07084912],\n",
              "       [ 0.02110805,  0.01213979, -0.0225896 , ...,  0.02255583,\n",
              "        -0.02159758, -0.01353742],\n",
              "       [ 0.05913101,  0.02143565, -0.00298906, ..., -0.00467227,\n",
              "        -0.02667867,  0.05955039]], dtype=float32)"
            ]
          },
          "metadata": {
            "tags": []
          },
          "execution_count": 81
        }
      ]
    },
    {
      "cell_type": "code",
      "metadata": {
        "colab": {
          "base_uri": "https://localhost:8080/"
        },
        "id": "E09MNmEraBSi",
        "outputId": "46bd0508-8bf1-4408-ad8b-b33882a81589"
      },
      "source": [
        "weights.shape"
      ],
      "execution_count": 82,
      "outputs": [
        {
          "output_type": "execute_result",
          "data": {
            "text/plain": [
              "(784, 300)"
            ]
          },
          "metadata": {
            "tags": []
          },
          "execution_count": 82
        }
      ]
    },
    {
      "cell_type": "code",
      "metadata": {
        "colab": {
          "base_uri": "https://localhost:8080/"
        },
        "id": "AjZBrbMwaBP1",
        "outputId": "66cb26d8-e6a6-49d3-b9df-93a637446396"
      },
      "source": [
        "biases"
      ],
      "execution_count": 83,
      "outputs": [
        {
          "output_type": "execute_result",
          "data": {
            "text/plain": [
              "array([0., 0., 0., 0., 0., 0., 0., 0., 0., 0., 0., 0., 0., 0., 0., 0., 0.,\n",
              "       0., 0., 0., 0., 0., 0., 0., 0., 0., 0., 0., 0., 0., 0., 0., 0., 0.,\n",
              "       0., 0., 0., 0., 0., 0., 0., 0., 0., 0., 0., 0., 0., 0., 0., 0., 0.,\n",
              "       0., 0., 0., 0., 0., 0., 0., 0., 0., 0., 0., 0., 0., 0., 0., 0., 0.,\n",
              "       0., 0., 0., 0., 0., 0., 0., 0., 0., 0., 0., 0., 0., 0., 0., 0., 0.,\n",
              "       0., 0., 0., 0., 0., 0., 0., 0., 0., 0., 0., 0., 0., 0., 0., 0., 0.,\n",
              "       0., 0., 0., 0., 0., 0., 0., 0., 0., 0., 0., 0., 0., 0., 0., 0., 0.,\n",
              "       0., 0., 0., 0., 0., 0., 0., 0., 0., 0., 0., 0., 0., 0., 0., 0., 0.,\n",
              "       0., 0., 0., 0., 0., 0., 0., 0., 0., 0., 0., 0., 0., 0., 0., 0., 0.,\n",
              "       0., 0., 0., 0., 0., 0., 0., 0., 0., 0., 0., 0., 0., 0., 0., 0., 0.,\n",
              "       0., 0., 0., 0., 0., 0., 0., 0., 0., 0., 0., 0., 0., 0., 0., 0., 0.,\n",
              "       0., 0., 0., 0., 0., 0., 0., 0., 0., 0., 0., 0., 0., 0., 0., 0., 0.,\n",
              "       0., 0., 0., 0., 0., 0., 0., 0., 0., 0., 0., 0., 0., 0., 0., 0., 0.,\n",
              "       0., 0., 0., 0., 0., 0., 0., 0., 0., 0., 0., 0., 0., 0., 0., 0., 0.,\n",
              "       0., 0., 0., 0., 0., 0., 0., 0., 0., 0., 0., 0., 0., 0., 0., 0., 0.,\n",
              "       0., 0., 0., 0., 0., 0., 0., 0., 0., 0., 0., 0., 0., 0., 0., 0., 0.,\n",
              "       0., 0., 0., 0., 0., 0., 0., 0., 0., 0., 0., 0., 0., 0., 0., 0., 0.,\n",
              "       0., 0., 0., 0., 0., 0., 0., 0., 0., 0., 0.], dtype=float32)"
            ]
          },
          "metadata": {
            "tags": []
          },
          "execution_count": 83
        }
      ]
    },
    {
      "cell_type": "code",
      "metadata": {
        "id": "vY1Ep3ZRaBLh"
      },
      "source": [
        "model.compile(optimizer=\"sgd\",\r\n",
        "        loss=\"sparse_categorical_crossentropy\",\r\n",
        "        metrics=[\"accuracy\"])"
      ],
      "execution_count": null,
      "outputs": []
    },
    {
      "cell_type": "code",
      "metadata": {
        "id": "1omH9c8waBJB"
      },
      "source": [
        ""
      ],
      "execution_count": null,
      "outputs": []
    },
    {
      "cell_type": "code",
      "metadata": {
        "id": "ucaWvZp0aBEs"
      },
      "source": [
        ""
      ],
      "execution_count": null,
      "outputs": []
    },
    {
      "cell_type": "code",
      "metadata": {
        "id": "iPHFYNEZaBAj"
      },
      "source": [
        ""
      ],
      "execution_count": null,
      "outputs": []
    },
    {
      "cell_type": "code",
      "metadata": {
        "id": "MhLIy5_3aA9r"
      },
      "source": [
        ""
      ],
      "execution_count": null,
      "outputs": []
    },
    {
      "cell_type": "code",
      "metadata": {
        "id": "ajFGMAXYtDRM"
      },
      "source": [
        ""
      ],
      "execution_count": null,
      "outputs": []
    },
    {
      "cell_type": "code",
      "metadata": {
        "id": "eF8NhrFmtDoQ"
      },
      "source": [
        ""
      ],
      "execution_count": null,
      "outputs": []
    },
    {
      "cell_type": "code",
      "metadata": {
        "id": "EZFLYomjtEES"
      },
      "source": [
        ""
      ],
      "execution_count": null,
      "outputs": []
    },
    {
      "cell_type": "code",
      "metadata": {
        "id": "BBsxw3PbtEBw"
      },
      "source": [
        ""
      ],
      "execution_count": null,
      "outputs": []
    },
    {
      "cell_type": "code",
      "metadata": {
        "id": "-IC-Kr8WtD_I"
      },
      "source": [
        ""
      ],
      "execution_count": null,
      "outputs": []
    },
    {
      "cell_type": "code",
      "metadata": {
        "id": "fOZirnMWtD2K"
      },
      "source": [
        ""
      ],
      "execution_count": null,
      "outputs": []
    }
  ]
}